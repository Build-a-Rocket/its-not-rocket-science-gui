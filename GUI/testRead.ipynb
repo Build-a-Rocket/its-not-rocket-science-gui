{
 "cells": [
  {
   "cell_type": "code",
   "execution_count": 34,
   "metadata": {},
   "outputs": [],
   "source": [
    "import serial\n",
    "import random\n",
    "from PIL import Image\n",
    "import io"
   ]
  },
  {
   "cell_type": "code",
   "execution_count": 2,
   "metadata": {},
   "outputs": [],
   "source": [
    "serialPort = \"COM6\"\n",
    "\n",
    "ser = serial.Serial(serialPort)"
   ]
  },
  {
   "cell_type": "code",
   "execution_count": 45,
   "metadata": {},
   "outputs": [],
   "source": [
    "data = b\"\"\n",
    "imagedata = b\"\"\n",
    "while True:\n",
    "    byte = ser.read(1) # Read one byte at a time\n",
    "    data += byte # Append byte to data\n",
    "    if data.endswith(b'VED'): # Check if end sequence is found\n",
    "        break # Exit loop\n",
    "\n",
    "# Find start sequence in data and slice it out\n",
    "start_index = data.find(b'VFM') # Find index of start sequence\n",
    "data = data[start_index + 3 : -3] # Slice out bytes between start and end sequences\n",
    "\n",
    "# Convert data to an image using PIL\n",
    "image = Image.open(io.BytesIO(data)) # Open data as a file-like object using BytesIO\n",
    "\n",
    "# Save or display image using PIL methods\n",
    "image.save('output.jpg') # Save image as JPG file\n",
    "image.show() # Display image on screen"
   ]
  },
  {
   "cell_type": "code",
   "execution_count": 36,
   "metadata": {},
   "outputs": [],
   "source": [
    "f = open(\"data.txt\", \"w\")\n",
    "f.write(str(data))\n",
    "f.close()"
   ]
  }
 ],
 "metadata": {
  "kernelspec": {
   "display_name": "rocketenv",
   "language": "python",
   "name": "python3"
  },
  "language_info": {
   "codemirror_mode": {
    "name": "ipython",
    "version": 3
   },
   "file_extension": ".py",
   "mimetype": "text/x-python",
   "name": "python",
   "nbconvert_exporter": "python",
   "pygments_lexer": "ipython3",
   "version": "3.9.16"
  },
  "orig_nbformat": 4,
  "vscode": {
   "interpreter": {
    "hash": "1337f4420fcdf42be8d8decea4c5ee149a379789b70f2d22e233d4a066c9ae6c"
   }
  }
 },
 "nbformat": 4,
 "nbformat_minor": 2
}
